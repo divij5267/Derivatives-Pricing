{
  "nbformat": 4,
  "nbformat_minor": 0,
  "metadata": {
    "colab": {
      "provenance": [],
      "toc_visible": true
    },
    "kernelspec": {
      "name": "python3",
      "display_name": "Python 3"
    },
    "language_info": {
      "name": "python"
    }
  },
  "cells": [
    {
      "cell_type": "markdown",
      "source": [
        "# Numerical Valuation Methods of Derivatives.\n",
        "The purpose of this notebook is to review the most common algorithms and implement them numerically. # New Section"
      ],
      "metadata": {
        "id": "BwJIi_qE4uqI"
      }
    },
    {
      "cell_type": "markdown",
      "source": [
        "If Derivatives Pricing is completely new for you, I would recommend these as starting guides so that you have the basic foundation to understand this Notebook.\n",
        "## Black-Scholes Model:\n",
        "\n",
        "*   [Investopedia's Black-Scholes](https://www.investopedia.com/terms/b/blackscholes.asp)\n",
        "*   [Khan Academy's Black-Scholes Option Pricing Model](https://www.khanacademy.org/economics-finance-domain/core-finance/derivative-securities/black-scholes/v/introduction-to-the-black-scholes-formula)\n",
        "\n",
        "## Binomial Tree Model\n",
        "\n",
        "*   [Investopedia's Binomial Option Pricing](https://www.investopedia.com/terms/b/binomialoptionpricing.asp)\n",
        "*   [Investopedia's Understanding The Binomial Option Pricing Model](https://www.investopedia.com/articles/investing/021215/examples-understand-binomial-option-pricing-model.asp)\n",
        "\n",
        "## Monte Carlo Simulation\n",
        "\n",
        "*   [Investopedia's Monte Carlo Simulation](https://www.investopedia.com/terms/m/montecarlosimulation.asp)\n",
        "*   [Investopedia's An Introduction to Monte Carlo Simulation for Finance](https://www.investopedia.com/articles/investing/112514/introduction-monte-carlo-simulation-finance.asp)\n",
        "\n",
        "## Put-Call Parity\n",
        "\n",
        "*   [Investopedia's Put-Call Parity](https://www.investopedia.com/terms/p/putcallparity.asp)\n",
        "*   [Investopedia's Arbitrage Opportunities](https://www.investopedia.com/terms/a/arbitrage.asp)"
      ],
      "metadata": {
        "id": "uXvt4vhJ3TtS"
      }
    },
    {
      "cell_type": "markdown",
      "source": [
        "## Contents\n",
        "   - [Black-Scholes European option](#sec1)\n",
        "   If you have advanced Math background, I higly recommend this https://en.wikipedia.org/wiki/Black%E2%80%93Scholes_model\n",
        "      - [Put-Call parity](#sec1.1)\n",
        "   - [Monte Carlo method](#sec3)\n",
        "   - [Binomial tree](#sec4)\n",
        "   - [Limits of the model](#sec5)"
      ],
      "metadata": {
        "id": "S1dzov325Kto"
      }
    },
    {
      "cell_type": "code",
      "execution_count": 2,
      "metadata": {
        "id": "TA4PrzOM1dDD"
      },
      "outputs": [],
      "source": [
        "import numpy as np\n",
        "import scipy.stats as ss\n",
        "from scipy.integrate import quad\n",
        "from functools import partial\n",
        "import matplotlib.pyplot as plt\n",
        "%matplotlib inline"
      ]
    }
  ]
}